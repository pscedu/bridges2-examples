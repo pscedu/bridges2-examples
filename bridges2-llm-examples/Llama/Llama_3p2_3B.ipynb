{
 "cells": [
  {
   "cell_type": "code",
   "execution_count": null,
   "id": "688667a1-ea44-48d1-b8d9-8247d6c2749d",
   "metadata": {},
   "outputs": [],
   "source": [
    "# Install those packages if not presented in the environment\n",
    "#!pip install torch \n",
    "#!pip install transformers\n",
    "#!pip install trl\n",
    "#!pip install bitsandbytes\n",
    "#!pip install -U peft\n",
    "#!pip install wandb"
   ]
  },
  {
   "cell_type": "markdown",
   "id": "1131c962-55e5-446e-b7fe-573d413d899b",
   "metadata": {},
   "source": [
    "# Using transformers pipeline for Llama 3.2 3B model inference"
   ]
  },
  {
   "cell_type": "code",
   "execution_count": null,
   "id": "17396e8c-e62a-445c-83e3-40e5b04ca9bd",
   "metadata": {
    "scrolled": true
   },
   "outputs": [],
   "source": [
    "import torch\n",
    "from transformers import pipeline\n",
    "\n",
    "model_id = \"meta-llama/Llama-3.2-3B\"\n",
    "\n",
    "pipe = pipeline(\n",
    "    \"text-generation\", \n",
    "    model=model_id, \n",
    "    torch_dtype=torch.float16, \n",
    "    device_map=\"auto\"\n",
    ")\n",
    "\n",
    "pipe(\"The key to life is\")"
   ]
  },
  {
   "cell_type": "markdown",
   "id": "fadb8ab8-1be8-446b-86c4-8dc3b405bd09",
   "metadata": {},
   "source": [
    "# Pretraining Llama 3.2 3B with SFT (Supervised fine-tuning) and LoRA"
   ]
  },
  {
   "cell_type": "code",
   "execution_count": null,
   "id": "17d94d36-ae57-4940-a89a-10a76ebb879c",
   "metadata": {
    "scrolled": true
   },
   "outputs": [],
   "source": [
    "!git clone https://github.com/huggingface/trl"
   ]
  },
  {
   "cell_type": "code",
   "execution_count": null,
   "id": "d4af687c-c9d8-4f7c-b271-ad7a6999c28f",
   "metadata": {},
   "outputs": [],
   "source": [
    "# If you want to disable wandb, uncommand the following two lines\n",
    "#import os \n",
    "#os.environ[\"WANDB_DISABLED\"]='true'\n",
    "\n",
    "# Works with 1 H100 80GB GPU or 1 V100 32GB GPU\n",
    "!TOKENIZERS_PARALLELISM=false python trl/trl/scripts/sft.py --model_name meta-llama/Llama-3.2-3B --dataset_name timdettmers/openassistant-guanaco --load_in_4bit --use_peft --gradient_accumulation_steps 2  --per_device_train_batch_size 4\n",
    "                                                                                                                                                                                                                                                                                                                                                                                                                    \n",
    "                                                                                                                                                                                                                                                                                                                                                                                                                    "
   ]
  },
  {
   "cell_type": "code",
   "execution_count": null,
   "id": "01d75b11-a4e8-42e4-a50e-8c3bc0658cc5",
   "metadata": {},
   "outputs": [],
   "source": [
    "\n"
   ]
  }
 ],
 "metadata": {
  "kernelspec": {
   "display_name": "python-pt-stable-h100",
   "language": "python",
   "name": "pt-stable-h100"
  },
  "language_info": {
   "codemirror_mode": {
    "name": "ipython",
    "version": 3
   },
   "file_extension": ".py",
   "mimetype": "text/x-python",
   "name": "python",
   "nbconvert_exporter": "python",
   "pygments_lexer": "ipython3",
   "version": "3.10.16"
  }
 },
 "nbformat": 4,
 "nbformat_minor": 5
}
